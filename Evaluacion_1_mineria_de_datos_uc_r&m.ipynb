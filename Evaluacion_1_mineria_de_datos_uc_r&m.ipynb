{
  "nbformat": 4,
  "nbformat_minor": 0,
  "metadata": {
    "colab": {
      "provenance": [],
      "include_colab_link": true
    },
    "kernelspec": {
      "name": "ir",
      "display_name": "R"
    }
  },
  "cells": [
    {
      "cell_type": "markdown",
      "metadata": {
        "id": "view-in-github",
        "colab_type": "text"
      },
      "source": [
        "<a href=\"https://colab.research.google.com/github/Maxhzrz/Tarea_diplomado/blob/main/Evaluacion_1_mineria_de_datos_uc_r%26m.ipynb\" target=\"_parent\"><img src=\"https://colab.research.google.com/assets/colab-badge.svg\" alt=\"Open In Colab\"/></a>"
      ]
    },
    {
      "cell_type": "code",
      "metadata": {
        "trusted": true,
        "id": "lBflaS6XTYgv",
        "colab": {
          "base_uri": "https://localhost:8080/",
          "height": 653
        },
        "outputId": "6e308e2f-ab8a-4d13-a79b-6979d0d38f56"
      },
      "source": [
        "## Carga de archivos\n",
        "paises <- read.csv(file= \"https://raw.githubusercontent.com/Maxhzrz/Tarea_diplomado/main/DatosPaises.csv\",sep=\";\")\n",
        "library(dplyr)\n",
        "head(paises)\n",
        "install.packages('ggplot2')\n",
        "install.packages('patchwork')\n",
        "\n"
      ],
      "execution_count": 7,
      "outputs": [
        {
          "output_type": "stream",
          "name": "stderr",
          "text": [
            "\n",
            "Attaching package: ‘dplyr’\n",
            "\n",
            "\n",
            "The following objects are masked from ‘package:stats’:\n",
            "\n",
            "    filter, lag\n",
            "\n",
            "\n",
            "The following objects are masked from ‘package:base’:\n",
            "\n",
            "    intersect, setdiff, setequal, union\n",
            "\n",
            "\n"
          ]
        },
        {
          "output_type": "display_data",
          "data": {
            "text/html": [
              "<table class=\"dataframe\">\n",
              "<caption>A data.frame: 6 × 30</caption>\n",
              "<thead>\n",
              "\t<tr><th></th><th scope=col>PAIS</th><th scope=col>PIB</th><th scope=col>POB</th><th scope=col>IDH</th><th scope=col>GINI</th><th scope=col>IPC</th><th scope=col>FAO</th><th scope=col>GENERO</th><th scope=col>ELECTRICIDAD</th><th scope=col>ESCOLARIDAD</th><th scope=col>⋯</th><th scope=col>TURISMO</th><th scope=col>INTERNET</th><th scope=col>VIOLENCIA</th><th scope=col>VIDA</th><th scope=col>CELULAR</th><th scope=col>DESERCION</th><th scope=col>PRISION</th><th scope=col>RENOVABLE</th><th scope=col>PARLAMENTO</th><th scope=col>INMIGRANTES</th></tr>\n",
              "\t<tr><th></th><th scope=col>&lt;chr&gt;</th><th scope=col>&lt;dbl&gt;</th><th scope=col>&lt;dbl&gt;</th><th scope=col>&lt;dbl&gt;</th><th scope=col>&lt;dbl&gt;</th><th scope=col>&lt;dbl&gt;</th><th scope=col>&lt;dbl&gt;</th><th scope=col>&lt;dbl&gt;</th><th scope=col>&lt;int&gt;</th><th scope=col>&lt;dbl&gt;</th><th scope=col>⋯</th><th scope=col>&lt;dbl&gt;</th><th scope=col>&lt;dbl&gt;</th><th scope=col>&lt;dbl&gt;</th><th scope=col>&lt;dbl&gt;</th><th scope=col>&lt;dbl&gt;</th><th scope=col>&lt;dbl&gt;</th><th scope=col>&lt;dbl&gt;</th><th scope=col>&lt;dbl&gt;</th><th scope=col>&lt;dbl&gt;</th><th scope=col>&lt;dbl&gt;</th></tr>\n",
              "</thead>\n",
              "<tbody>\n",
              "\t<tr><th scope=row>1</th><td>Qatar     </td><td>127.54265</td><td>2.169</td><td>0.8498</td><td>29.95</td><td>107.07</td><td>1.75</td><td>0.524</td><td> 98</td><td>13.79</td><td>⋯</td><td> 2.611</td><td>91.49</td><td>38.3</td><td>78.2</td><td>145.76</td><td>2.26</td><td> 60</td><td> 0.00</td><td> 0.00</td><td>73.82</td></tr>\n",
              "\t<tr><th scope=row>2</th><td>Luxembourg</td><td> 87.77164</td><td>0.543</td><td>0.8919</td><td>29.00</td><td>108.01</td><td>1.27</td><td>0.100</td><td>100</td><td>13.88</td><td>⋯</td><td> 0.945</td><td>94.67</td><td>39.5</td><td>81.7</td><td>148.37</td><td>5.60</td><td>122</td><td> 3.98</td><td>28.33</td><td>43.25</td></tr>\n",
              "\t<tr><th scope=row>3</th><td>Kuwait    </td><td> 82.36923</td><td>3.250</td><td>0.8163</td><td>29.00</td><td>111.19</td><td>2.60</td><td>0.387</td><td> 98</td><td>14.75</td><td>⋯</td><td> 0.300</td><td>78.70</td><td>39.5</td><td>74.4</td><td>218.43</td><td>5.93</td><td>137</td><td> 0.00</td><td> 1.54</td><td>60.21</td></tr>\n",
              "\t<tr><th scope=row>4</th><td>Singapore </td><td> 76.24004</td><td>5.399</td><td>0.9118</td><td>29.95</td><td>112.65</td><td>1.02</td><td>0.088</td><td>100</td><td>15.40</td><td>⋯</td><td>11.900</td><td>82.00</td><td> 9.2</td><td>83.0</td><td>158.13</td><td>1.32</td><td>230</td><td> 2.79</td><td>25.25</td><td>42.93</td></tr>\n",
              "\t<tr><th scope=row>5</th><td>Brunei    </td><td> 69.44976</td><td>0.418</td><td>0.8556</td><td>29.00</td><td>102.88</td><td>2.95</td><td>0.064</td><td> 76</td><td>14.53</td><td>⋯</td><td> 0.225</td><td>68.77</td><td>39.5</td><td>78.8</td><td>110.06</td><td>3.63</td><td>122</td><td> 0.00</td><td>23.17</td><td>49.35</td></tr>\n",
              "\t<tr><th scope=row>6</th><td>Norway    </td><td> 62.45083</td><td>5.084</td><td>0.9439</td><td>26.83</td><td>104.19</td><td>1.51</td><td>0.067</td><td>100</td><td>17.49</td><td>⋯</td><td> 4.963</td><td>96.30</td><td>26.8</td><td>81.6</td><td>116.51</td><td>1.51</td><td> 72</td><td>47.75</td><td>39.64</td><td>13.77</td></tr>\n",
              "</tbody>\n",
              "</table>\n"
            ],
            "text/markdown": "\nA data.frame: 6 × 30\n\n| <!--/--> | PAIS &lt;chr&gt; | PIB &lt;dbl&gt; | POB &lt;dbl&gt; | IDH &lt;dbl&gt; | GINI &lt;dbl&gt; | IPC &lt;dbl&gt; | FAO &lt;dbl&gt; | GENERO &lt;dbl&gt; | ELECTRICIDAD &lt;int&gt; | ESCOLARIDAD &lt;dbl&gt; | ⋯ ⋯ | TURISMO &lt;dbl&gt; | INTERNET &lt;dbl&gt; | VIOLENCIA &lt;dbl&gt; | VIDA &lt;dbl&gt; | CELULAR &lt;dbl&gt; | DESERCION &lt;dbl&gt; | PRISION &lt;dbl&gt; | RENOVABLE &lt;dbl&gt; | PARLAMENTO &lt;dbl&gt; | INMIGRANTES &lt;dbl&gt; |\n|---|---|---|---|---|---|---|---|---|---|---|---|---|---|---|---|---|---|---|---|---|---|\n| 1 | Qatar      | 127.54265 | 2.169 | 0.8498 | 29.95 | 107.07 | 1.75 | 0.524 |  98 | 13.79 | ⋯ |  2.611 | 91.49 | 38.3 | 78.2 | 145.76 | 2.26 |  60 |  0.00 |  0.00 | 73.82 |\n| 2 | Luxembourg |  87.77164 | 0.543 | 0.8919 | 29.00 | 108.01 | 1.27 | 0.100 | 100 | 13.88 | ⋯ |  0.945 | 94.67 | 39.5 | 81.7 | 148.37 | 5.60 | 122 |  3.98 | 28.33 | 43.25 |\n| 3 | Kuwait     |  82.36923 | 3.250 | 0.8163 | 29.00 | 111.19 | 2.60 | 0.387 |  98 | 14.75 | ⋯ |  0.300 | 78.70 | 39.5 | 74.4 | 218.43 | 5.93 | 137 |  0.00 |  1.54 | 60.21 |\n| 4 | Singapore  |  76.24004 | 5.399 | 0.9118 | 29.95 | 112.65 | 1.02 | 0.088 | 100 | 15.40 | ⋯ | 11.900 | 82.00 |  9.2 | 83.0 | 158.13 | 1.32 | 230 |  2.79 | 25.25 | 42.93 |\n| 5 | Brunei     |  69.44976 | 0.418 | 0.8556 | 29.00 | 102.88 | 2.95 | 0.064 |  76 | 14.53 | ⋯ |  0.225 | 68.77 | 39.5 | 78.8 | 110.06 | 3.63 | 122 |  0.00 | 23.17 | 49.35 |\n| 6 | Norway     |  62.45083 | 5.084 | 0.9439 | 26.83 | 104.19 | 1.51 | 0.067 | 100 | 17.49 | ⋯ |  4.963 | 96.30 | 26.8 | 81.6 | 116.51 | 1.51 |  72 | 47.75 | 39.64 | 13.77 |\n\n",
            "text/latex": "A data.frame: 6 × 30\n\\begin{tabular}{r|lllllllllllllllllllll}\n  & PAIS & PIB & POB & IDH & GINI & IPC & FAO & GENERO & ELECTRICIDAD & ESCOLARIDAD & ⋯ & TURISMO & INTERNET & VIOLENCIA & VIDA & CELULAR & DESERCION & PRISION & RENOVABLE & PARLAMENTO & INMIGRANTES\\\\\n  & <chr> & <dbl> & <dbl> & <dbl> & <dbl> & <dbl> & <dbl> & <dbl> & <int> & <dbl> & ⋯ & <dbl> & <dbl> & <dbl> & <dbl> & <dbl> & <dbl> & <dbl> & <dbl> & <dbl> & <dbl>\\\\\n\\hline\n\t1 & Qatar      & 127.54265 & 2.169 & 0.8498 & 29.95 & 107.07 & 1.75 & 0.524 &  98 & 13.79 & ⋯ &  2.611 & 91.49 & 38.3 & 78.2 & 145.76 & 2.26 &  60 &  0.00 &  0.00 & 73.82\\\\\n\t2 & Luxembourg &  87.77164 & 0.543 & 0.8919 & 29.00 & 108.01 & 1.27 & 0.100 & 100 & 13.88 & ⋯ &  0.945 & 94.67 & 39.5 & 81.7 & 148.37 & 5.60 & 122 &  3.98 & 28.33 & 43.25\\\\\n\t3 & Kuwait     &  82.36923 & 3.250 & 0.8163 & 29.00 & 111.19 & 2.60 & 0.387 &  98 & 14.75 & ⋯ &  0.300 & 78.70 & 39.5 & 74.4 & 218.43 & 5.93 & 137 &  0.00 &  1.54 & 60.21\\\\\n\t4 & Singapore  &  76.24004 & 5.399 & 0.9118 & 29.95 & 112.65 & 1.02 & 0.088 & 100 & 15.40 & ⋯ & 11.900 & 82.00 &  9.2 & 83.0 & 158.13 & 1.32 & 230 &  2.79 & 25.25 & 42.93\\\\\n\t5 & Brunei     &  69.44976 & 0.418 & 0.8556 & 29.00 & 102.88 & 2.95 & 0.064 &  76 & 14.53 & ⋯ &  0.225 & 68.77 & 39.5 & 78.8 & 110.06 & 3.63 & 122 &  0.00 & 23.17 & 49.35\\\\\n\t6 & Norway     &  62.45083 & 5.084 & 0.9439 & 26.83 & 104.19 & 1.51 & 0.067 & 100 & 17.49 & ⋯ &  4.963 & 96.30 & 26.8 & 81.6 & 116.51 & 1.51 &  72 & 47.75 & 39.64 & 13.77\\\\\n\\end{tabular}\n",
            "text/plain": [
              "  PAIS       PIB       POB   IDH    GINI  IPC    FAO  GENERO ELECTRICIDAD\n",
              "1 Qatar      127.54265 2.169 0.8498 29.95 107.07 1.75 0.524   98         \n",
              "2 Luxembourg  87.77164 0.543 0.8919 29.00 108.01 1.27 0.100  100         \n",
              "3 Kuwait      82.36923 3.250 0.8163 29.00 111.19 2.60 0.387   98         \n",
              "4 Singapore   76.24004 5.399 0.9118 29.95 112.65 1.02 0.088  100         \n",
              "5 Brunei      69.44976 0.418 0.8556 29.00 102.88 2.95 0.064   76         \n",
              "6 Norway      62.45083 5.084 0.9439 26.83 104.19 1.51 0.067  100         \n",
              "  ESCOLARIDAD ⋯ TURISMO INTERNET VIOLENCIA VIDA CELULAR DESERCION PRISION\n",
              "1 13.79       ⋯  2.611  91.49    38.3      78.2 145.76  2.26       60    \n",
              "2 13.88       ⋯  0.945  94.67    39.5      81.7 148.37  5.60      122    \n",
              "3 14.75       ⋯  0.300  78.70    39.5      74.4 218.43  5.93      137    \n",
              "4 15.40       ⋯ 11.900  82.00     9.2      83.0 158.13  1.32      230    \n",
              "5 14.53       ⋯  0.225  68.77    39.5      78.8 110.06  3.63      122    \n",
              "6 17.49       ⋯  4.963  96.30    26.8      81.6 116.51  1.51       72    \n",
              "  RENOVABLE PARLAMENTO INMIGRANTES\n",
              "1  0.00      0.00      73.82      \n",
              "2  3.98     28.33      43.25      \n",
              "3  0.00      1.54      60.21      \n",
              "4  2.79     25.25      42.93      \n",
              "5  0.00     23.17      49.35      \n",
              "6 47.75     39.64      13.77      "
            ]
          },
          "metadata": {}
        },
        {
          "output_type": "stream",
          "name": "stderr",
          "text": [
            "Installing package into ‘/usr/local/lib/R/site-library’\n",
            "(as ‘lib’ is unspecified)\n",
            "\n",
            "Installing package into ‘/usr/local/lib/R/site-library’\n",
            "(as ‘lib’ is unspecified)\n",
            "\n"
          ]
        }
      ]
    },
    {
      "cell_type": "code",
      "source": [
        "library(patchwork)\n",
        "library(ggplot2)"
      ],
      "metadata": {
        "id": "nt4EMaoj1Tm3"
      },
      "execution_count": 12,
      "outputs": []
    },
    {
      "cell_type": "code",
      "source": [
        "install.packages('psych')\n",
        "library(psych)"
      ],
      "metadata": {
        "colab": {
          "base_uri": "https://localhost:8080/"
        },
        "id": "kFYjcPNjTcw-",
        "outputId": "5ce51aa4-921c-43c7-f42c-ac4b0907081e"
      },
      "execution_count": 84,
      "outputs": [
        {
          "output_type": "stream",
          "name": "stderr",
          "text": [
            "Installing package into ‘/usr/local/lib/R/site-library’\n",
            "(as ‘lib’ is unspecified)\n",
            "\n",
            "also installing the dependency ‘mnormt’\n",
            "\n",
            "\n",
            "\n",
            "Attaching package: ‘psych’\n",
            "\n",
            "\n",
            "The following objects are masked from ‘package:ggplot2’:\n",
            "\n",
            "    %+%, alpha\n",
            "\n",
            "\n"
          ]
        }
      ]
    },
    {
      "cell_type": "code",
      "source": [
        "# Se elige POB, IDH, ESCOLARIDAD, Coef de GINI (Indice de desigualdad)\n",
        "\n",
        "summary(paises[c(\"POB\",\"IDH\",\"ESCOLARIDAD\",\"GINI\")])"
      ],
      "metadata": {
        "colab": {
          "base_uri": "https://localhost:8080/",
          "height": 138
        },
        "id": "2u8EuM8VdLIJ",
        "outputId": "12758da3-6c1b-4215-f89f-fc0d6958ea65"
      },
      "execution_count": 9,
      "outputs": [
        {
          "output_type": "display_data",
          "data": {
            "text/plain": [
              "      POB                IDH          ESCOLARIDAD         GINI      \n",
              " Min.   :   0.021   Min.   :0.3483   Min.   : 4.10   Min.   :24.82  \n",
              " 1st Qu.:   2.154   1st Qu.:0.5738   1st Qu.:11.09   1st Qu.:31.01  \n",
              " Median :   8.153   Median :0.7241   Median :13.07   Median :36.75  \n",
              " Mean   :  37.205   Mean   :0.6924   Mean   :12.88   Mean   :38.29  \n",
              " 3rd Qu.:  23.450   3rd Qu.:0.8166   3rd Qu.:15.03   3rd Qu.:43.22  \n",
              " Max.   :1357.380   Max.   :0.9439   Max.   :20.22   Max.   :65.77  "
            ]
          },
          "metadata": {}
        }
      ]
    },
    {
      "cell_type": "code",
      "source": [
        "h1<- ggplot(paises, aes(x=POB)) +\n",
        "  geom_histogram(color=\"black\", fill=\"white\")\n",
        "h2<- ggplot(paises, aes(x=IDH)) +\n",
        "  geom_histogram(color=\"black\", fill=\"white\")\n",
        "h3<- ggplot(paises, aes(x=ESCOLARIDAD)) +\n",
        "  geom_histogram(color=\"black\", fill=\"white\")\n",
        "h4<- ggplot(paises, aes(x=GINI)) +\n",
        "  geom_histogram(color=\"black\", fill=\"white\")\n",
        "  h1+h2+h3+h4\n",
        ""
      ],
      "metadata": {
        "colab": {
          "base_uri": "https://localhost:8080/",
          "height": 506
        },
        "id": "1SSvnXQGzuXN",
        "outputId": "43c61f5c-11d8-415b-cffc-26efefdaf3bb"
      },
      "execution_count": 13,
      "outputs": [
        {
          "output_type": "stream",
          "name": "stderr",
          "text": [
            "\u001b[1m\u001b[22m`stat_bin()` using `bins = 30`. Pick better value with `binwidth`.\n",
            "\u001b[1m\u001b[22m`stat_bin()` using `bins = 30`. Pick better value with `binwidth`.\n",
            "\u001b[1m\u001b[22m`stat_bin()` using `bins = 30`. Pick better value with `binwidth`.\n",
            "\u001b[1m\u001b[22m`stat_bin()` using `bins = 30`. Pick better value with `binwidth`.\n"
          ]
        },
        {
          "output_type": "display_data",
          "data": {
            "text/plain": [
              "plot without title"
            ],
            "image/png": "[encoded data removed]"
          },
          "metadata": {
            "image/png": {
              "width": 420,
              "height": 420
            }
          }
        }
      ]
    },
    {
      "cell_type": "code",
      "source": [
        "# PIB\n",
        "\n",
        "var<-paises$PIB\n",
        "hist(var,main=\"PIB\")\n",
        "# Método 1 - Percentiles\n",
        "Perc<- quantile(var, prob=seq(0, 1, length = 101))\n",
        "#P_PIB[100]\n",
        "dPerc<-var[var<Perc[100] & var>Perc[1]]\n",
        "hist(dPerc, main=\"PIB filtrado con percentiles\")\n",
        "prop_perc<-length(dPerc)/length(var)\n",
        "#Método 2 - Desigualdad de Chevyshev\n",
        "  # Define el valor de k\n",
        "  k <- 3\n",
        "  # Calcula la media y la desviación estándar\n",
        "  mean <- mean(var)\n",
        "  sd <- sd(var)\n",
        "\n",
        "  # Calcula el número de datos dentro de k desviaciones estándar de la media\n",
        "  in_range <- sum(abs(var - mean) <= k * sd)\n",
        "\n",
        "  # Chebyshev's inequality theoretical lower bound\n",
        "  chebyshev_bound <- 1 - 1 / k^2\n",
        "\n",
        "datos_cheby<- var[(abs(var - mean) <= k * sd)]\n",
        "#prop_cheby<-length(datos_cheby)/length(var)\n",
        "hist(datos_cheby, main=\"PIB aplicando desigualdad de Chebyshev\")\n",
        "#print(prop_perc)\n",
        "print(prop_cheby)\n",
        "#Método 3 - Z Robusto\n",
        "#define funcion\n",
        "robust_z <- function(x) {\n",
        "  median_x <- median(x)\n",
        "  mad_x <- mad(x)\n",
        "  z <- (x - median_x) / mad_x\n",
        "  return(z)\n",
        "}\n",
        "# se aplica al dataframe\n",
        "df<- as.data.frame(data.frame(var))\n",
        "df$zrob<-  robust_z(var)\n",
        "df_filtered <- df[abs(df$zrob) <= 5,]\n",
        "hist(df_filtered$var, main=\"PIB utilizando Z-Robusto\")\n",
        "prop_zrob<-length(df_filtered$var)/length(var)\n",
        "print(prop_zrob)\n",
        "#print(prop_cheby)\n",
        "\n",
        "\n",
        "hist(df$zrob, main=\"Valores Z del PIB\")"
      ],
      "metadata": {
        "colab": {
          "base_uri": "https://localhost:8080/",
          "height": 1000
        },
        "id": "8bQAG9-Edqtz",
        "outputId": "a2ba7b1a-07b5-4bf3-bcbb-6bfd0d8f26ce"
      },
      "execution_count": 14,
      "outputs": [
        {
          "output_type": "display_data",
          "data": {
            "text/plain": [
              "Plot with title “PIB”"
            ],
            "image/png": "[encoded data removed]"
          },
          "metadata": {
            "image/png": {
              "width": 420,
              "height": 420
            }
          }
        },
        {
          "output_type": "display_data",
          "data": {
            "text/plain": [
              "Plot with title “PIB filtrado con percentiles”"
            ],
            "image/png": "[encoded data removed]"
          },
          "metadata": {
            "image/png": {
              "width": 420,
              "height": 420
            }
          }
        },
        {
          "output_type": "error",
          "ename": "ERROR",
          "evalue": "ignored",
          "traceback": [
            "Error in eval(expr, envir, enclos): object 'prop_cheby' not found\nTraceback:\n",
            "1. print(prop_cheby)"
          ]
        },
        {
          "output_type": "display_data",
          "data": {
            "text/plain": [
              "Plot with title “PIB aplicando desigualdad de Chebyshev”"
            ],
            "image/png": "[encoded data removed]"
          },
          "metadata": {
            "image/png": {
              "width": 420,
              "height": 420
            }
          }
        }
      ]
    },
    {
      "cell_type": "code",
      "source": [
        "mean(Perc[1:100])\n",
        "sd(df$zrob)\n",
        "sd(var)\n",
        "summary(datos_cheby)"
      ],
      "metadata": {
        "colab": {
          "base_uri": "https://localhost:8080/",
          "height": 165
        },
        "id": "nnnH9krEcdCZ",
        "outputId": "1a14e215-e54e-428a-cbc1-5893095336f5"
      },
      "execution_count": 15,
      "outputs": [
        {
          "output_type": "display_data",
          "data": {
            "text/html": [
              "16.3529200565002"
            ],
            "text/markdown": "16.3529200565002",
            "text/latex": "16.3529200565002",
            "text/plain": [
              "[1] 16.35292"
            ]
          },
          "metadata": {}
        },
        {
          "output_type": "error",
          "ename": "ERROR",
          "evalue": "ignored",
          "traceback": [
            "Error in df$zrob: object of type 'closure' is not subsettable\nTraceback:\n",
            "1. sd(df$zrob)",
            "2. var(if (is.vector(x) || is.factor(x)) x else as.double(x), na.rm = na.rm)"
          ]
        }
      ]
    },
    {
      "cell_type": "code",
      "source": [
        "# Método 1\n",
        "\n",
        "#POB\n",
        "var<-paises$POB\n",
        "# Método 1 - Percentiles\n",
        "Perc<- quantile(var, prob=seq(0, 1, length = 101))\n",
        "Perc[100]\n",
        "dPerc<-var[var<Perc[100] & var>Perc[1]]\n",
        "\n",
        "prop_perc<-length(dPerc)/length(var)\n",
        "sdPob<-sd(dPerc)\n",
        "h1<- ggplot(data.frame(POB = dPerc), aes(x=POB)) +\n",
        "  geom_histogram(color=\"black\", fill=\"white\")\n",
        "\n",
        " #IDH\n",
        "var<-paises$IDH\n",
        "# Método 1 - Percentiles\n",
        "Perc<- quantile(var, prob=seq(0, 1, length = 101))\n",
        "dPerc<-var[var<Perc[100] & var>Perc[1]]\n",
        "prop_perc<-length(dPerc)/length(var)\n",
        "sdIDH<-sd(dPerc)\n",
        "h2<- ggplot(data.frame(IDH = dPerc), aes(x=IDH)) +\n",
        "  geom_histogram(color=\"black\", fill=\"white\")\n",
        "\n",
        "#ESCOLARIDAD\n",
        "var<-paises$ESCOLARIDAD\n",
        "# Método 1 - Percentiles\n",
        "Perc<- quantile(var, prob=seq(0, 1, length = 101))\n",
        "dPerc<-var[var<Perc[100] & var>Perc[1]]\n",
        "#Perc[100]\n",
        "prop_perc<-length(dPerc)/length(var)\n",
        "sdEscolaridad<-sd(dPerc)\n",
        "h3<- ggplot(data.frame(ESCOLARIDAD = dPerc), aes(x=ESCOLARIDAD)) +\n",
        "  geom_histogram(color=\"black\", fill=\"white\")\n",
        "\n",
        "#GINI\n",
        "var<-paises$GINI\n",
        "# Método 1 - Percentiles\n",
        "Perc<- quantile(var, prob=seq(0, 1, length = 101))\n",
        "dPerc<-var[var<Perc[100] & var>Perc[1]]\n",
        "#Perc[100]\n",
        "dPerc<-var[var<Perc[100] & var>Perc[1]]\n",
        "prop_perc<-length(dPerc)/length(var)\n",
        "sdGINI<-sd(dPerc)\n",
        "h4<- ggplot(data.frame(GINI = dPerc), aes(x=GINI)) +\n",
        "  geom_histogram(color=\"black\", fill=\"white\")\n",
        "\n",
        "h1+h2+h3+h4 + plot_layout(ncol = 3)\n",
        "\n",
        "\n"
      ],
      "metadata": {
        "colab": {
          "base_uri": "https://localhost:8080/",
          "height": 524
        },
        "id": "JxUE5Yr-B-io",
        "outputId": "92ed99e5-69c1-4cfe-d47e-cbabae119b0a"
      },
      "execution_count": 130,
      "outputs": [
        {
          "output_type": "display_data",
          "data": {
            "text/html": [
              "<strong>99%:</strong> 437.810429999996"
            ],
            "text/markdown": "**99%:** 437.810429999996",
            "text/latex": "\\textbf{99\\textbackslash{}\\%:} 437.810429999996",
            "text/plain": [
              "     99% \n",
              "437.8104 "
            ]
          },
          "metadata": {}
        },
        {
          "output_type": "stream",
          "name": "stderr",
          "text": [
            "\u001b[1m\u001b[22m`stat_bin()` using `bins = 30`. Pick better value with `binwidth`.\n",
            "\u001b[1m\u001b[22m`stat_bin()` using `bins = 30`. Pick better value with `binwidth`.\n",
            "\u001b[1m\u001b[22m`stat_bin()` using `bins = 30`. Pick better value with `binwidth`.\n",
            "\u001b[1m\u001b[22m`stat_bin()` using `bins = 30`. Pick better value with `binwidth`.\n"
          ]
        },
        {
          "output_type": "display_data",
          "data": {
            "text/plain": [
              "plot without title"
            ],
            "image/png": "[encoded data removed]"
          },
          "metadata": {
            "image/png": {
              "width": 420,
              "height": 420
            }
          }
        }
      ]
    },
    {
      "cell_type": "code",
      "source": [
        "var<-paises$POB\n",
        "#Método 2 - Desigualdad de Chevyshev\n",
        "  # Define el valor de k\n",
        "  k <- 3\n",
        "  # Calcula la media y la desviación estándar\n",
        "  mean <- mean(var)\n",
        "  sd <- sd(var)\n",
        "\n",
        "  # Calcula el número de datos dentro de k desviaciones estándar de la media\n",
        "  in_range <- sum(abs(var - mean) <= k * sd)\n",
        "\n",
        "  # Chebyshev's inequality theoretical lower bound\n",
        "  chebyshev_bound <- 1 - 1 / k^2\n",
        "\n",
        "datos_cheby<- var[(abs(var - mean) <= k * sd)]\n",
        "prop_cheby<-length(datos_cheby)/length(var)\n",
        "\n",
        "#print(prop_perc)\n",
        "print(prop_cheby)\n",
        "\n",
        "h1<- ggplot(data.frame(POB = datos_cheby), aes(x=POB)) +\n",
        "  geom_histogram(color=\"black\", fill=\"white\")\n",
        "\n",
        " var<-paises$IDH\n",
        "#Método 2 - Desigualdad de Chevyshev\n",
        "  # Define el valor de k\n",
        "  k <- 3\n",
        "  # Calcula la media y la desviación estándar\n",
        "  mean <- mean(var)\n",
        "  sd <- sd(var)\n",
        "\n",
        "  # Calcula el número de datos dentro de k desviaciones estándar de la media\n",
        "  in_range <- sum(abs(var - mean) <= k * sd)\n",
        "\n",
        "  # Chebyshev's inequality theoretical lower bound\n",
        "  chebyshev_bound <- 1 - 1 / k^2\n",
        "\n",
        "datos_cheby<- var[(abs(var - mean) <= k * sd)]\n",
        "prop_cheby<-length(datos_cheby)/length(var)\n",
        "\n",
        "#print(prop_perc)\n",
        "print(prop_cheby)\n",
        "\n",
        "h2<- ggplot(data.frame(IDH = datos_cheby), aes(x=IDH)) +\n",
        "  geom_histogram(color=\"black\", fill=\"white\")\n",
        "############\n",
        "\n",
        "var<-paises$ESCOLARIDAD\n",
        "#Método 2 - Desigualdad de Chevyshev\n",
        "  # Define el valor de k\n",
        "  k <- 3\n",
        "  # Calcula la media y la desviación estándar\n",
        "  mean <- mean(var)\n",
        "  sd <- sd(var)\n",
        "\n",
        "  # Calcula el número de datos dentro de k desviaciones estándar de la media\n",
        "  in_range <- sum(abs(var - mean) <= k * sd)\n",
        "\n",
        "  # Chebyshev's inequality theoretical lower bound\n",
        "  chebyshev_bound <- 1 - 1 / k^2\n",
        "\n",
        "datos_cheby<- var[(abs(var - mean) <= k * sd)]\n",
        "prop_cheby<-length(datos_cheby)/length(var)\n",
        "\n",
        "#print(prop_perc)\n",
        "print(prop_cheby)\n",
        "\n",
        "h3<- ggplot(data.frame(ESCOLARIDAD = datos_cheby), aes(x=ESCOLARIDAD)) +\n",
        "  geom_histogram(color=\"black\", fill=\"white\")\n",
        "\n",
        "############\n",
        "\n",
        "var<-paises$GINI\n",
        "#Método 2 - Desigualdad de Chevyshev\n",
        "  # Define el valor de k\n",
        "  k <- 3\n",
        "  # Calcula la media y la desviación estándar\n",
        "  mean <- mean(var)\n",
        "  sd <- sd(var)\n",
        "\n",
        "  # Calcula el número de datos dentro de k desviaciones estándar de la media\n",
        "  in_range <- sum(abs(var - mean) <= k * sd)\n",
        "\n",
        "  # Chebyshev's inequality theoretical lower bound\n",
        "  chebyshev_bound <- 1 - 1 / k^2\n",
        "\n",
        "datos_cheby<- var[(abs(var - mean) <= k * sd)]\n",
        "prop_cheby<-length(datos_cheby)/length(var)\n",
        "\n",
        "#print(prop_perc)\n",
        "print(prop_cheby)\n",
        "\n",
        "h4<- ggplot(data.frame(GINI = datos_cheby), aes(x=GINI)) +\n",
        "  geom_histogram(color=\"black\", fill=\"white\")\n",
        "\n",
        "   h1+h2+h3+h4"
      ],
      "metadata": {
        "colab": {
          "base_uri": "https://localhost:8080/",
          "height": 576
        },
        "id": "ACLv4qggR9wd",
        "outputId": "88724d54-e95a-4bbe-c5ef-070f9d8852a7"
      },
      "execution_count": 136,
      "outputs": [
        {
          "output_type": "stream",
          "name": "stdout",
          "text": [
            "[1] 0.9893617\n",
            "[1] 1\n",
            "[1] 0.9946809\n",
            "[1] 0.9893617\n"
          ]
        },
        {
          "output_type": "stream",
          "name": "stderr",
          "text": [
            "\u001b[1m\u001b[22m`stat_bin()` using `bins = 30`. Pick better value with `binwidth`.\n",
            "\u001b[1m\u001b[22m`stat_bin()` using `bins = 30`. Pick better value with `binwidth`.\n",
            "\u001b[1m\u001b[22m`stat_bin()` using `bins = 30`. Pick better value with `binwidth`.\n",
            "\u001b[1m\u001b[22m`stat_bin()` using `bins = 30`. Pick better value with `binwidth`.\n"
          ]
        },
        {
          "output_type": "display_data",
          "data": {
            "text/plain": [
              "plot without title"
            ],
            "image/png": "[encoded data removed]"
          },
          "metadata": {
            "image/png": {
              "width": 420,
              "height": 420
            }
          }
        }
      ]
    },
    {
      "cell_type": "code",
      "source": [
        "\n",
        "robust_z <- function(x) {\n",
        "  median_x <- median(x)\n",
        "  mad_x <- mad(x)\n",
        "  z <- (x - median_x) / mad_x\n",
        "  return(z)\n",
        "}\n",
        "# se aplica al dataframe\n",
        "var<-paises$POB\n",
        "df<- as.data.frame(data.frame(var))\n",
        "df$zrob<-  robust_z(var)\n",
        "df_filtered <- df[abs(df$zrob) <= 3,]\n",
        "df_filteredPOB<-df[abs(df$zrob) <= 3,]\n",
        "prop_zrob_POB<-length(df_filtered$var)/length(var)\n",
        "print(prop_zrob)\n",
        "#print(prop_cheby)\n",
        "\n",
        "h1<- ggplot(data.frame(POB = df_filtered$var), aes(x=POB)) +\n",
        "  geom_histogram(color=\"black\", fill=\"white\")\n",
        "z1<- ggplot(data.frame(POB = df$zrob), aes(x=POB)) +\n",
        "  geom_histogram(color=\"black\", fill=\"white\")\n",
        "\n",
        " # se aplica al dataframe\n",
        "var<-paises$IDH\n",
        "df<- as.data.frame(data.frame(var))\n",
        "df$zrob<-  robust_z(var)\n",
        "df_filtered <- df[abs(df$zrob) <= 3,]\n",
        "df_filteredIDH<-df[abs(df$zrob) <= 3,]\n",
        "prop_zrob_IDH<-length(df_filtered$var)/length(var)\n",
        "print(prop_zrob)\n",
        "#print(prop_cheby)\n",
        "\n",
        "h2<- ggplot(data.frame(IDH = df_filtered$var), aes(x=IDH)) +\n",
        "  geom_histogram(color=\"black\", fill=\"white\")\n",
        "z2<- ggplot(data.frame(IDH = df$zrob), aes(x=IDH)) +\n",
        "  geom_histogram(color=\"black\", fill=\"white\")\n",
        "# se aplica al dataframe\n",
        "var<-paises$ESCOLARIDAD\n",
        "df<- as.data.frame(data.frame(var))\n",
        "df$zrob<-  robust_z(var)\n",
        "df_filtered <- df[abs(df$zrob) <= 3,]\n",
        "df_filteredESC<-df[abs(df$zrob) <= 3,]\n",
        "prop_zrob_ESC<-length(df_filtered$var)/length(var)\n",
        "print(prop_zrob)\n",
        "#print(prop_cheby)\n",
        "\n",
        "h3<- ggplot(data.frame(ESCOLARIDAD = df_filtered$var), aes(x=ESCOLARIDAD)) +\n",
        "  geom_histogram(color=\"black\", fill=\"white\")\n",
        "z3<- ggplot(data.frame(ESCOLARIDAD = df$zrob), aes(x=ESCOLARIDAD)) +\n",
        "  geom_histogram(color=\"black\", fill=\"white\")\n",
        "# se aplica al dataframe\n",
        "var<-paises$GINI\n",
        "\n",
        "df<- as.data.frame(data.frame(var))\n",
        "df$zrob<-  robust_z(var)\n",
        "df_filtered <- df[abs(df$zrob) <= 3,]\n",
        "df_filteredGINI<-df[abs(df$zrob) <= 3,]\n",
        "prop_zrob_GINI<-length(df_filtered$var)/length(var)\n",
        "print(prop_zrob)\n",
        "#print(prop_cheby)\n",
        "\n",
        "h4<- ggplot(data.frame(GINI = df_filtered$var), aes(x=GINI)) +\n",
        "  geom_histogram(color=\"black\", fill=\"white\")\n",
        "z4<- ggplot(data.frame(GINI = df$zrob), aes(x=GINI)) +\n",
        "  geom_histogram(color=\"black\", fill=\"white\")\n",
        "\n",
        "paste(\"GINI:\",sd(df_filteredGINI))\n",
        "paste(\"ESC:\",sd(df_filteredESC))\n",
        "paste(\"IDH:\",sd(df_filteredIDH))\n",
        "paste(\"POB:\",sd(df_filteredPOB))\n",
        "\n",
        "   #h1+h2+h3+h4\n",
        "\n",
        "   #z1+z2+z3+z4"
      ],
      "metadata": {
        "colab": {
          "base_uri": "https://localhost:8080/",
          "height": 252
        },
        "id": "dUoFGq8CbQTR",
        "outputId": "da8e4932-8f83-4617-c314-a476a5a89e05"
      },
      "execution_count": 155,
      "outputs": [
        {
          "output_type": "stream",
          "name": "stdout",
          "text": [
            "[1] 0.9840426\n",
            "[1] 0.9840426\n",
            "[1] 0.9840426\n",
            "[1] 0.9840426\n"
          ]
        },
        {
          "output_type": "error",
          "ename": "ERROR",
          "evalue": "ignored",
          "traceback": [
            "Error in is.data.frame(x): 'list' object cannot be coerced to type 'double'\nTraceback:\n",
            "1. paste(\"GINI:\", sd(df_filteredGINI))",
            "2. sd(df_filteredGINI)",
            "3. var(if (is.vector(x) || is.factor(x)) x else as.double(x), na.rm = na.rm)",
            "4. is.data.frame(x)"
          ]
        }
      ]
    }
  ]
}